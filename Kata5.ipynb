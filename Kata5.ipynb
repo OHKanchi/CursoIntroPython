{
 "cells": [
  {
   "cell_type": "markdown",
   "metadata": {},
   "source": [
    "<h1>Kata 5"
   ]
  },
  {
   "cell_type": "markdown",
   "metadata": {},
   "source": [
    "<h2>Ejercicio 1: Usar Operadores Aritméticos."
   ]
  },
  {
   "cell_type": "markdown",
   "metadata": {},
   "source": [
    "Crear Variables"
   ]
  },
  {
   "cell_type": "code",
   "execution_count": 3,
   "metadata": {},
   "outputs": [],
   "source": [
    "Tierra = 149597.870\n",
    "Jupiter = 778547.200"
   ]
  },
  {
   "cell_type": "markdown",
   "metadata": {},
   "source": [
    "Realizar Operación"
   ]
  },
  {
   "cell_type": "code",
   "execution_count": 6,
   "metadata": {},
   "outputs": [
    {
     "name": "stdout",
     "output_type": "stream",
     "text": [
      "390577.53393\n"
     ]
    }
   ],
   "source": [
    "print(abs((Tierra-Jupiter)*0.621))"
   ]
  },
  {
   "cell_type": "markdown",
   "metadata": {},
   "source": [
    "<h2>Ejercicio 2: Convierte Cadenas en Números y Usa Valores Absolutos"
   ]
  },
  {
   "cell_type": "markdown",
   "metadata": {},
   "source": [
    "Crear una aplicación para trabajar con números y entrada de usuario"
   ]
  },
  {
   "cell_type": "code",
   "execution_count": 14,
   "metadata": {},
   "outputs": [
    {
     "name": "stdout",
     "output_type": "stream",
     "text": [
      "Calcularemos la distancia entre dos diferentes planetas con relación en su distancia al sol.\n",
      "La distancia entre ambos planetas es igual a:\n",
      "1 Kilometros;\n",
      "o su equivalente:\n",
      "0.621 Millas.\n"
     ]
    }
   ],
   "source": [
    "print(\"\"\"Calcularemos la distancia entre dos diferentes planetas con relación en su distancia al sol.\"\"\")\n",
    "\n",
    "PrimerP = input(\"Por favor, a continuación ingresa la distancia al sol del primer planeta:\")\n",
    "\n",
    "SegundoP = input(\"Ahora ingresa la distancia al sol del segundo planeta:\")\n",
    "\n",
    "PrimerP = int(PrimerP)\n",
    "SegundoP = int(SegundoP)\n",
    "\n",
    "print(f\"\"\"La distancia entre ambos planetas es igual a:\n",
    "{abs(PrimerP-SegundoP)} Kilometros;\n",
    "o su equivalente:\n",
    "{abs((PrimerP-SegundoP)*0.621)} Millas.\"\"\")"
   ]
  }
 ],
 "metadata": {
  "interpreter": {
   "hash": "744e218aa5e8241f4ac925288c3b76ae5d4d2163a63446536558e86e972fad5e"
  },
  "kernelspec": {
   "display_name": "Python 3.10.2 ('env': venv)",
   "language": "python",
   "name": "python3"
  },
  "language_info": {
   "codemirror_mode": {
    "name": "ipython",
    "version": 3
   },
   "file_extension": ".py",
   "mimetype": "text/x-python",
   "name": "python",
   "nbconvert_exporter": "python",
   "pygments_lexer": "ipython3",
   "version": "3.10.2"
  },
  "orig_nbformat": 4
 },
 "nbformat": 4,
 "nbformat_minor": 2
}
