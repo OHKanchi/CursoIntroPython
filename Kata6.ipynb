{
 "cells": [
  {
   "cell_type": "markdown",
   "metadata": {},
   "source": [
    "<h1>KATA 6"
   ]
  },
  {
   "cell_type": "markdown",
   "metadata": {},
   "source": [
    "<h2>Ejercicio1: Crear y usar listas de Python"
   ]
  },
  {
   "cell_type": "markdown",
   "metadata": {},
   "source": [
    "Usar listas para almacenar nombres de planetas"
   ]
  },
  {
   "cell_type": "code",
   "execution_count": 16,
   "metadata": {},
   "outputs": [
    {
     "name": "stdout",
     "output_type": "stream",
     "text": [
      "En el sistema solar hay un total de 8 planetas\n"
     ]
    }
   ],
   "source": [
    "planetas = [\"Mercurio\", \"Venus\", \"Tierra\", \"Marte\", \"Jupiter\", \"Saturno\", \"Urano\", \"Neptuno\"]\n",
    "\n",
    "print(f\"En el sistema solar hay un total de {len(planetas)} planetas\")\n"
   ]
  },
  {
   "cell_type": "markdown",
   "metadata": {},
   "source": [
    "Agregamos a Plutón a la lista"
   ]
  },
  {
   "cell_type": "code",
   "execution_count": 17,
   "metadata": {},
   "outputs": [
    {
     "name": "stdout",
     "output_type": "stream",
     "text": [
      "Si agregamos a Plutón a la lista tenemos un total de 9 planetas.\n"
     ]
    }
   ],
   "source": [
    "planetas.append(\"Plutón\")\n",
    "\n",
    "print(f\"Si agregamos a Plutón a la lista tenemos un total de {len(planetas)} planetas.\")"
   ]
  },
  {
   "cell_type": "markdown",
   "metadata": {},
   "source": [
    "<h2>Ejercicio 2: Trabajando con datos de una lista"
   ]
  },
  {
   "cell_type": "markdown",
   "metadata": {},
   "source": [
    "Usar slices para recuperar partes de una lista"
   ]
  },
  {
   "cell_type": "markdown",
   "metadata": {},
   "source": [
    "Creamos la lista de planetas"
   ]
  },
  {
   "cell_type": "code",
   "execution_count": 18,
   "metadata": {},
   "outputs": [],
   "source": [
    "planetas = [\"Mercurio\", \"Venus\", \"Tierra\", \"Marte\", \"Jupiter\", \"Saturno\", \"Urano\", \"Neptuno\"]"
   ]
  },
  {
   "cell_type": "markdown",
   "metadata": {},
   "source": [
    "Solicitamos al usuario el nombre de un planeta e imprimimos su posición y los planetas que se encuentran entre el sol y él."
   ]
  },
  {
   "cell_type": "code",
   "execution_count": 34,
   "metadata": {},
   "outputs": [
    {
     "name": "stdout",
     "output_type": "stream",
     "text": [
      "Saturno ocupa la 5 posición en el sistema solar\n",
      "Los planetas que se encuentran entre el sol y Saturno son: ['Mercurio', 'Venus', 'Tierra', 'Marte', 'Jupiter']\n",
      "Los planetas que se encuentran después de Saturno y más alejados del Sol son: ['Urano', 'Neptuno']\n"
     ]
    }
   ],
   "source": [
    "PlanetaU = input(\"Ingresa el nombre de un planeta\")\n",
    "PlanetaM = PlanetaU.capitalize()\n",
    "NumP = planetas.index(PlanetaM)\n",
    "\n",
    "\n",
    "print(f\"\"\"{PlanetaM} ocupa la {NumP} posición en el sistema solar\n",
    "Los planetas que se encuentran entre el sol y {PlanetaM} son: {planetas[0:NumP]}\n",
    "Los planetas que se encuentran después de {PlanetaM} y más alejados del Sol son: {planetas[NumP+1:]}\"\"\")\n",
    "\n"
   ]
  }
 ],
 "metadata": {
  "interpreter": {
   "hash": "744e218aa5e8241f4ac925288c3b76ae5d4d2163a63446536558e86e972fad5e"
  },
  "kernelspec": {
   "display_name": "Python 3.10.2 ('env': venv)",
   "language": "python",
   "name": "python3"
  },
  "language_info": {
   "codemirror_mode": {
    "name": "ipython",
    "version": 3
   },
   "file_extension": ".py",
   "mimetype": "text/x-python",
   "name": "python",
   "nbconvert_exporter": "python",
   "pygments_lexer": "ipython3",
   "version": "3.10.2"
  },
  "orig_nbformat": 4
 },
 "nbformat": 4,
 "nbformat_minor": 2
}
