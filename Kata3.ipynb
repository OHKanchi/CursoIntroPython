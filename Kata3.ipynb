{
 "cells": [
  {
   "cell_type": "markdown",
   "metadata": {},
   "source": [
    "<h1>KATA 3"
   ]
  },
  {
   "cell_type": "markdown",
   "metadata": {},
   "source": [
    "<h2>Escribir Declaraciones"
   ]
  },
  {
   "cell_type": "markdown",
   "metadata": {},
   "source": [
    "<h3>Problema 1"
   ]
  },
  {
   "cell_type": "code",
   "execution_count": 10,
   "metadata": {},
   "outputs": [
    {
     "name": "stdout",
     "output_type": "stream",
     "text": [
      "ATENCIÓN: Asteroide con trayecto a la tierra\n"
     ]
    }
   ],
   "source": [
    "VelAs=49\n",
    "if VelAs > 25:\n",
    "    print(\"ATENCIÓN: Asteroide con trayecto a la tierra\")\n",
    "\n",
    "else:\n",
    "        print(\"Todo bien\")"
   ]
  },
  {
   "cell_type": "markdown",
   "metadata": {},
   "source": [
    "<h3>Problema 2"
   ]
  },
  {
   "cell_type": "code",
   "execution_count": 14,
   "metadata": {},
   "outputs": [
    {
     "name": "stdout",
     "output_type": "stream",
     "text": [
      "Nada que ver en el cielo\n"
     ]
    }
   ],
   "source": [
    "VelAs=19\n",
    "if VelAs >=20:\n",
    "\n",
    "    print(\"Busca la luz del asteroide en el cielo\")\n",
    "\n",
    "else: \n",
    "    print(\"Nada que ver en el cielo\")"
   ]
  },
  {
   "cell_type": "markdown",
   "metadata": {},
   "source": [
    "<h2>Usando operadores and y or"
   ]
  },
  {
   "cell_type": "markdown",
   "metadata": {},
   "source": [
    "<h3>Problema 3"
   ]
  },
  {
   "cell_type": "code",
   "execution_count": 38,
   "metadata": {},
   "outputs": [
    {
     "name": "stdout",
     "output_type": "stream",
     "text": [
      "¡ATENCIÓN: Asteroide de gran masa se acerca lentamente a la tierra!\n",
      "¡Su luz no es visible!\n"
     ]
    }
   ],
   "source": [
    "VelAs=20\n",
    "TamAs=26\n",
    "if VelAs > 25 and TamAs > 25:\n",
    "    print(\"¡ATENCIÓN: Un asteroide de gran tamaño viene hacia la Tierra a gran velocidad!\")\n",
    "    print(\"La luz del asteroide es visible\")\n",
    "elif VelAs >= 20 and TamAs < 25:\n",
    "    print(\"Busca la luz del asteroide en el cielo, es pequeño, así que se desintegrará al entrar a la atmosfera sin causar daño.\")\n",
    "elif TamAs > 25 and VelAs <=20:\n",
    "    print(\"¡ATENCIÓN: Asteroide de gran masa se acerca lentamente a la tierra!\")\n",
    "    print(\"¡Su luz no es visible!\")\n",
    "else:\n",
    "    print(\"Todo bien\")"
   ]
  }
 ],
 "metadata": {
  "interpreter": {
   "hash": "744e218aa5e8241f4ac925288c3b76ae5d4d2163a63446536558e86e972fad5e"
  },
  "kernelspec": {
   "display_name": "Python 3.10.2 ('env': venv)",
   "language": "python",
   "name": "python3"
  },
  "language_info": {
   "codemirror_mode": {
    "name": "ipython",
    "version": 3
   },
   "file_extension": ".py",
   "mimetype": "text/x-python",
   "name": "python",
   "nbconvert_exporter": "python",
   "pygments_lexer": "ipython3",
   "version": "3.10.2"
  },
  "orig_nbformat": 4
 },
 "nbformat": 4,
 "nbformat_minor": 2
}
