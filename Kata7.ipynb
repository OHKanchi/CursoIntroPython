{
 "cells": [
  {
   "cell_type": "markdown",
   "metadata": {},
   "source": [
    "<h1>KATA 7"
   ]
  },
  {
   "cell_type": "markdown",
   "metadata": {},
   "source": [
    "<h2>Uso de Ciclos While"
   ]
  },
  {
   "cell_type": "markdown",
   "metadata": {},
   "source": [
    "Declaración de variables"
   ]
  },
  {
   "cell_type": "code",
   "execution_count": 38,
   "metadata": {},
   "outputs": [],
   "source": [
    "PlanetaU = \"\"\n",
    "ListaP = []"
   ]
  },
  {
   "cell_type": "markdown",
   "metadata": {},
   "source": [
    "Añadimos el ciclo while"
   ]
  },
  {
   "cell_type": "code",
   "execution_count": 39,
   "metadata": {},
   "outputs": [],
   "source": [
    "while PlanetaU.lower() != 'no':\n",
    "    \n",
    "    if PlanetaU:\n",
    "        \n",
    "        ListaP.append(PlanetaU.capitalize())\n",
    "    \n",
    "    PlanetaU = input(\"\"\"Ingresa el nombre de un Planeta, de lo contrario escribe 'No' \"\"\")"
   ]
  },
  {
   "cell_type": "markdown",
   "metadata": {},
   "source": [
    "<h2>Ejercicio 2 Mostrar lista de planetas."
   ]
  },
  {
   "cell_type": "code",
   "execution_count": 40,
   "metadata": {},
   "outputs": [
    {
     "name": "stdout",
     "output_type": "stream",
     "text": [
      "Saturno\n"
     ]
    }
   ],
   "source": [
    "for PlanetaU in ListaP:\n",
    "    \n",
    "    print(PlanetaU)"
   ]
  }
 ],
 "metadata": {
  "interpreter": {
   "hash": "744e218aa5e8241f4ac925288c3b76ae5d4d2163a63446536558e86e972fad5e"
  },
  "kernelspec": {
   "display_name": "Python 3.10.2 ('env': venv)",
   "language": "python",
   "name": "python3"
  },
  "language_info": {
   "codemirror_mode": {
    "name": "ipython",
    "version": 3
   },
   "file_extension": ".py",
   "mimetype": "text/x-python",
   "name": "python",
   "nbconvert_exporter": "python",
   "pygments_lexer": "ipython3",
   "version": "3.10.2"
  },
  "orig_nbformat": 4
 },
 "nbformat": 4,
 "nbformat_minor": 2
}
