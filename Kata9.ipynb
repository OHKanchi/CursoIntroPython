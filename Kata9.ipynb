{
 "cells": [
  {
   "cell_type": "markdown",
   "metadata": {},
   "source": [
    "<h1>KATA 9"
   ]
  },
  {
   "cell_type": "markdown",
   "metadata": {},
   "source": [
    "<h2>Uso de funciones en Python"
   ]
  },
  {
   "cell_type": "markdown",
   "metadata": {},
   "source": [
    "Ejercicio 1: Trabajar con argumentos en funciones"
   ]
  },
  {
   "cell_type": "markdown",
   "metadata": {},
   "source": [
    "Creando función con 3 lecturas de combustible"
   ]
  },
  {
   "cell_type": "code",
   "execution_count": 47,
   "metadata": {},
   "outputs": [],
   "source": [
    "def LecCom(a, b, c):\n",
    "    PCom = (a + b + c) / 3\n",
    "    return f\"\"\"Reporte de las lecturas de Combustible:\n",
    "    {\"-\"*50}\n",
    "    Primer Lectura de Combustible: {a} litros\n",
    "    Segunda Lectura de Combustible: {b} litros\n",
    "    Tercer Lectura de Combustible: {c} litros\n",
    "    {\"-\"*50}\n",
    "    Promedio de Combustible: {PCom} litros\"\"\"\n"
   ]
  },
  {
   "cell_type": "markdown",
   "metadata": {},
   "source": [
    "Imprimimos el reporte."
   ]
  },
  {
   "cell_type": "code",
   "execution_count": 48,
   "metadata": {},
   "outputs": [
    {
     "name": "stdout",
     "output_type": "stream",
     "text": [
      "Reporte de las lecturas de Combustible:\n",
      "    --------------------------------------------------\n",
      "    Primer Lectura de Combustible: 10 litros\n",
      "    Segunda Lectura de Combustible: 10 litros\n",
      "    Tercer Lectura de Combustible: 10 litros\n",
      "    --------------------------------------------------\n",
      "    Promedio de Combustible: 10.0 litros\n"
     ]
    }
   ],
   "source": [
    "am = int(input(f\"Ingresa el valor de la primer medición:\"))\n",
    "bm = int(input(f\"Ingresa el valor de la segunda medición:\"))\n",
    "cm = int(input(f\"Ingresa el valor de la tercera medición:\"))\n",
    "print(LecCom(am,bm,cm))"
   ]
  },
  {
   "cell_type": "markdown",
   "metadata": {},
   "source": [
    "función separada de promedio"
   ]
  },
  {
   "cell_type": "code",
   "execution_count": 49,
   "metadata": {},
   "outputs": [],
   "source": [
    "def PCom(values):\n",
    "    total = sum(values)\n",
    "    NumMed = len(values)\n",
    "    return total / NumMed"
   ]
  },
  {
   "cell_type": "markdown",
   "metadata": {},
   "source": [
    "Actualizamos la Función"
   ]
  },
  {
   "cell_type": "code",
   "execution_count": 50,
   "metadata": {},
   "outputs": [
    {
     "name": "stdout",
     "output_type": "stream",
     "text": [
      "Reporte de las lecturas de Combustible:\n",
      "    --------------------------------------------------\n",
      "    Primer Lectura de Combustible: 10 litros\n",
      "    Segunda Lectura de Combustible: 10 litros\n",
      "    Tercer Lectura de Combustible: 10 litros\n",
      "    --------------------------------------------------\n",
      "    Promedio de Combustible: 10.0 litros\n"
     ]
    }
   ],
   "source": [
    "def LecComActualizada(a, b, c):\n",
    "    return f\"\"\"Reporte de las lecturas de Combustible:\n",
    "    {\"-\"*50}\n",
    "    Primer Lectura de Combustible: {a} litros\n",
    "    Segunda Lectura de Combustible: {b} litros\n",
    "    Tercer Lectura de Combustible: {c} litros\n",
    "    {\"-\"*50}\n",
    "    Promedio de Combustible: {PCom([a,b,c])} litros\"\"\"\n",
    "\n",
    "print(LecComActualizada(am,bm,cm))"
   ]
  },
  {
   "cell_type": "markdown",
   "metadata": {},
   "source": [
    "<h2>Ejercicio 2: Trabajo con argumentos de palabra clave"
   ]
  },
  {
   "cell_type": "markdown",
   "metadata": {},
   "source": [
    "Trabajar con argumentos de palabras clave en funciones"
   ]
  },
  {
   "cell_type": "code",
   "execution_count": 51,
   "metadata": {},
   "outputs": [],
   "source": [
    "def InfMision(HPreL,TVuelo, Destino, TExterno, TInterno):\n",
    "    return f\"\"\"INFORME DE LA MISIÓN:\n",
    "    {\"-\"*50}\n",
    "    Tiempo Total de Vuelo: {Hprel+TVuelo} minutos.\n",
    "    Destino: {Destino}.\n",
    "    Tanque Externo: {TExterno} litros.\n",
    "    Tanque Interno: {TInterno} litros.\n",
    "    Total de Combustible: {TExterno+TInterno} litros.\n",
    "    {\"-\"*50}\"\"\"\n",
    "\n",
    "    print(InfMision)\n"
   ]
  },
  {
   "cell_type": "markdown",
   "metadata": {},
   "source": [
    "Hacer cambios en la función para que sea más flexible con el usuario"
   ]
  },
  {
   "cell_type": "code",
   "execution_count": 53,
   "metadata": {},
   "outputs": [
    {
     "name": "stdout",
     "output_type": "stream",
     "text": [
      "\n",
      "    Mission to Moon\n",
      "    Total travel time: 74 minutes\n",
      "    Total fuel left: 500000\n",
      "    main tank --> 300000 gallons left\n",
      "external tank --> 200000 gallons left\n",
      "\n"
     ]
    }
   ],
   "source": [
    "#Esto no lo entendí, lo copié tal cual.\n",
    "def InfMision(Destino, *minutes, **fuel_reservoirs):\n",
    "    reporte = f\"\"\"\n",
    "    Mission to {Destino}\n",
    "    Total travel time: {sum(minutes)} minutes\n",
    "    Total fuel left: {sum(fuel_reservoirs.values())}\n",
    "    \"\"\"\n",
    "    for tank_name, gallons in fuel_reservoirs.items():\n",
    "        reporte += f\"{tank_name} tank --> {gallons} gallons left\\n\"\n",
    "    return reporte\n",
    "\n",
    "print(InfMision(\"Moon\", 8, 11, 55, main=300000, external=200000))"
   ]
  }
 ],
 "metadata": {
  "interpreter": {
   "hash": "744e218aa5e8241f4ac925288c3b76ae5d4d2163a63446536558e86e972fad5e"
  },
  "kernelspec": {
   "display_name": "Python 3.10.2 ('env': venv)",
   "language": "python",
   "name": "python3"
  },
  "language_info": {
   "codemirror_mode": {
    "name": "ipython",
    "version": 3
   },
   "file_extension": ".py",
   "mimetype": "text/x-python",
   "name": "python",
   "nbconvert_exporter": "python",
   "pygments_lexer": "ipython3",
   "version": "3.10.2"
  },
  "orig_nbformat": 4
 },
 "nbformat": 4,
 "nbformat_minor": 2
}
